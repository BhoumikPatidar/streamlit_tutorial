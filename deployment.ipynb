{
 "cells": [
  {
   "cell_type": "markdown",
   "metadata": {},
   "source": [
    "# Step-by-Step Deployment Guide\n",
    "\n"
   ]
  },
  {
   "cell_type": "markdown",
   "metadata": {},
   "source": [
    "## 1. Create `requirements.txt`\n",
    "Create file with essential dependencies:\n",
    "```txt\n",
    "streamlit>=1.29.0\n",
    "numpy>=1.26.0\n",
    "pandas>=2.1.1\n",
    "plotly>=5.18.0"
   ]
  },
  {
   "cell_type": "markdown",
   "metadata": {},
   "source": [
    "## 2. GitHub Setup\n",
    "Create a new repository on GitHub and add the following files:"
   ]
  },
  {
   "cell_type": "markdown",
   "metadata": {},
   "source": [
    "your-repo/  \n",
    "├── final.py  \n",
    "├── requirements.txt  \n"
   ]
  },
  {
   "cell_type": "markdown",
   "metadata": {},
   "source": [
    "## 3. Deploy to Streamlit Cloud\n",
    "- Go to Streamlit Cloud.  \n",
    "- Connect your GitHub account.  \n",
    "- Select the repository and branch.  \n",
    "- Set the main file path to `final.py`.  \n",
    "- Deploy.  \n",
    "\n",
    "## 4. Deploy to Hugging Face  \n",
    "- Create a new Space on Hugging Face Spaces.  \n",
    "- Select the **\"Streamlit\"** SDK.  \n",
    "- Add files via the web interface or Git.  \n"
   ]
  }
 ],
 "metadata": {
  "kernelspec": {
   "display_name": "base",
   "language": "python",
   "name": "python3"
  },
  "language_info": {
   "codemirror_mode": {
    "name": "ipython",
    "version": 3
   },
   "file_extension": ".py",
   "mimetype": "text/x-python",
   "name": "python",
   "nbconvert_exporter": "python",
   "pygments_lexer": "ipython3",
   "version": "3.12.2"
  }
 },
 "nbformat": 4,
 "nbformat_minor": 2
}
